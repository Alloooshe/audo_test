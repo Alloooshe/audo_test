{
 "cells": [
  {
   "cell_type": "code",
   "execution_count": 1,
   "metadata": {},
   "outputs": [],
   "source": [
    "#load standard libs\n",
    "import csv\n",
    "import pandas as pd \n",
    "import numpy as np\n",
    "\n",
    "#load sklrean modules\n",
    "from sklearn.neighbors import KNeighborsClassifier\n",
    "from sklearn.pipeline import Pipeline\n",
    "from sklearn.preprocessing import StandardScaler\n",
    "from sklearn.preprocessing import LabelEncoder"
   ]
  },
  {
   "cell_type": "code",
   "execution_count": 16,
   "metadata": {},
   "outputs": [],
   "source": [
    "# load the following data : occupation, intresets, work values \n",
    "occupation_file= \"db_28_0_text/Occupation Data.txt\"\n",
    "intrests_file= \"db_28_0_text/Interests.txt\"\n",
    "work_values_file = \"db_28_0_text/Work Values.txt\"\n",
    "\n"
   ]
  },
  {
   "cell_type": "code",
   "execution_count": 3,
   "metadata": {},
   "outputs": [],
   "source": [
    "#load training data and make unicalize names\n",
    "df_occ = pd.read_csv(occupation_file,delimiter=\"\\t\")\n",
    "df_intrests = pd.read_csv(intrests_file,delimiter=\"\\t\")\n",
    "df_intrests['Element Name']= df_intrests['Element Name'].apply(lambda x: x.lower())\n",
    "df_intrests= df_intrests.pivot(index=\"O*NET-SOC Code\", columns=\"Element Name\",values=\"Data Value\")\n",
    "\n",
    "df_work_values = pd.read_csv(work_values_file,delimiter=\"\\t\")\n",
    "df_work_values['Element Name']= df_work_values['Element Name'].apply(lambda x: x.lower())\n",
    "df_work_values = df_work_values.pivot(index=\"O*NET-SOC Code\", columns=\"Element Name\",values=\"Data Value\")\n"
   ]
  },
  {
   "cell_type": "code",
   "execution_count": 4,
   "metadata": {},
   "outputs": [],
   "source": [
    "#join data \n",
    "data = df_occ.join(df_intrests, on='O*NET-SOC Code',how=\"inner\",rsuffix='_intrests') \\\n",
    "             .join(df_work_values, on='O*NET-SOC Code',how=\"inner\",rsuffix='_work_values')"
   ]
  },
  {
   "cell_type": "code",
   "execution_count": 7,
   "metadata": {},
   "outputs": [],
   "source": [
    "#define training columns\n",
    "training_cols= [x for x in list(data.columns.unique()) if x not in [\"Title\",\"O*NET-SOC Code\",\"Description\"]]\n"
   ]
  },
  {
   "cell_type": "code",
   "execution_count": 8,
   "metadata": {},
   "outputs": [],
   "source": [
    "#prepare data for training \n",
    "label_encoder = LabelEncoder()\n",
    "label_encoder.fit(data[\"Title\"])\n",
    "x_train, y_train = data[training_cols], data[\"Title\"]\n",
    "y_train= label_encoder.transform(y_train)\n",
    "x_train = x_train.rename(columns={'working conditions': 'working_conditions'})\n",
    "x_train= x_train.reindex(sorted(x_train.columns), axis=1)"
   ]
  },
  {
   "cell_type": "code",
   "execution_count": 9,
   "metadata": {},
   "outputs": [],
   "source": [
    "#define model \n",
    "clf = Pipeline(\n",
    "    steps=[(\"scaler\", StandardScaler()), (\"knn\", KNeighborsClassifier(leaf_size=1,n_neighbors=11,p=2))]\n",
    ")"
   ]
  },
  {
   "cell_type": "code",
   "execution_count": 11,
   "metadata": {},
   "outputs": [
    {
     "data": {
      "text/plain": [
       "0.10983981693363844"
      ]
     },
     "execution_count": 11,
     "metadata": {},
     "output_type": "execute_result"
    }
   ],
   "source": [
    "#fit model\n",
    "clf.fit(x_train,y_train)\n",
    "clf.score(x_train,y_train)"
   ]
  },
  {
   "cell_type": "code",
   "execution_count": 13,
   "metadata": {},
   "outputs": [
    {
     "name": "stdout",
     "output_type": "stream",
     "text": [
      "0.8935926773455377\n"
     ]
    }
   ],
   "source": [
    "#measure recall@10 for training data \n",
    "res= clf.predict_proba(x_train)\n",
    "recall_10 = 0\n",
    "for i in range(len(x_train)):\n",
    "    top_10= np.argpartition(res[i], -10)[-10:]\n",
    "    top_10_jobs = label_encoder.inverse_transform(top_10)\n",
    "    gt = label_encoder.inverse_transform([y_train[i]])\n",
    "    if gt in top_10_jobs : \n",
    "        recall_10 +=1 \n",
    "print(recall_10/len(x_train))\n"
   ]
  },
  {
   "cell_type": "code",
   "execution_count": 17,
   "metadata": {},
   "outputs": [],
   "source": [
    "import pickle\n",
    "with open('model.pickle', 'wb') as f:\n",
    "    pickle.dump(clf, f, protocol=pickle.HIGHEST_PROTOCOL)\n",
    "\n",
    "with open('label_encoder.pickle', 'wb') as f:\n",
    "    pickle.dump(label_encoder, f, protocol=pickle.HIGHEST_PROTOCOL)"
   ]
  }
 ],
 "metadata": {
  "kernelspec": {
   "display_name": ".venv",
   "language": "python",
   "name": "python3"
  },
  "language_info": {
   "codemirror_mode": {
    "name": "ipython",
    "version": 3
   },
   "file_extension": ".py",
   "mimetype": "text/x-python",
   "name": "python",
   "nbconvert_exporter": "python",
   "pygments_lexer": "ipython3",
   "version": "3.10.12"
  }
 },
 "nbformat": 4,
 "nbformat_minor": 2
}
