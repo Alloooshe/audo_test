{
 "cells": [
  {
   "cell_type": "code",
   "execution_count": 12,
   "metadata": {},
   "outputs": [],
   "source": [
    "import pandas as pd \n",
    "import pickle\n",
    "import numpy as np\n",
    "user_data_file= \"Data_Sci_Challenge_Datasets/Data_science_challenge_files/User_scores.csv\""
   ]
  },
  {
   "cell_type": "code",
   "execution_count": 5,
   "metadata": {},
   "outputs": [],
   "source": [
    "#define maps\n",
    "map_intrests = {\n",
    "    \"no high point available\": 0,\n",
    "    \"realistic\": 1,\n",
    "    \"investigative\": 2,\n",
    "    \"artistic\": 3,\n",
    "    \"social\":4,\n",
    "    \"enterprising\":5,\n",
    "    \"conventional\":6,\n",
    "    \"no high point available\":0,\n",
    "    \"achievement\": 1,\n",
    "    \"working Conditions\": 2,\n",
    "    \"recognition\": 3,\n",
    "    \"relationships\": 4,\n",
    "    \"support\": 5,\n",
    "    \"independence\": 6\n",
    "\n",
    "}\n",
    "lst_labels_tops=[ \n",
    "       'third interest high-point',\n",
    "       'second interest high-point', \n",
    "       'first interest high-point',\n",
    "       'third work value high-point',\n",
    "       'second work value high-point',\n",
    "       'first work value high-point',\n",
    "        ]"
   ]
  },
  {
   "cell_type": "code",
   "execution_count": 8,
   "metadata": {},
   "outputs": [],
   "source": [
    "#load user data \n",
    "df_user = pd.read_csv(user_data_file)\n",
    "\n",
    "#extract extra features for inference, fix data names, prepare input\n",
    "df_tops =df_user.sort_values('score').groupby(['user_id','element_group'], sort=True).tail(3)\n",
    "df_tops[\"tops\"] = lst_labels_tops\n",
    "df_tops[\"tops_values\"] = df_tops[\"element_name\"].map(lambda x : map_intrests[x] )\n",
    "df_tops = df_tops.pivot(index=\"user_id\", columns=\"tops\",values=\"tops_values\")\n",
    "df_user= df_user.pivot(index=\"user_id\", columns=\"element_name\",values=\"score\")\n",
    "df_user_norm = df_user.join(df_tops,on='user_id',how=\"inner\")\n",
    "df_user_norm = df_user_norm.reindex(sorted(df_user_norm.columns), axis=1)"
   ]
  },
  {
   "cell_type": "code",
   "execution_count": 13,
   "metadata": {},
   "outputs": [],
   "source": [
    "with open('model.pickle', 'rb') as file:\n",
    "    fitted = pickle.load(file)\n",
    "\n",
    "with open('label_encoder.pickle', 'rb') as file:\n",
    "    label_encoder = pickle.load(file)\n",
    "\n"
   ]
  },
  {
   "cell_type": "code",
   "execution_count": 14,
   "metadata": {},
   "outputs": [],
   "source": [
    "res= fitted.predict_proba(df_user_norm)"
   ]
  },
  {
   "cell_type": "code",
   "execution_count": 15,
   "metadata": {},
   "outputs": [
    {
     "name": "stdout",
     "output_type": "stream",
     "text": [
      "['Critical Care Nurses' 'Medical and Health Services Managers'\n",
      " 'Family Medicine Physicians' 'Psychiatrists' 'Pediatricians, General'\n",
      " 'Occupational Therapists'\n",
      " 'Education Administrators, Kindergarten through Secondary'\n",
      " 'Chief Executives' 'Judges, Magistrate Judges, and Magistrates'\n",
      " 'Nurse Practitioners']\n"
     ]
    }
   ],
   "source": [
    "top_10= np.argpartition(res[0], -10)[-10:]\n",
    "top_10_jobs = label_encoder.inverse_transform(top_10)\n",
    "print(top_10_jobs)"
   ]
  }
 ],
 "metadata": {
  "kernelspec": {
   "display_name": ".venv",
   "language": "python",
   "name": "python3"
  },
  "language_info": {
   "codemirror_mode": {
    "name": "ipython",
    "version": 3
   },
   "file_extension": ".py",
   "mimetype": "text/x-python",
   "name": "python",
   "nbconvert_exporter": "python",
   "pygments_lexer": "ipython3",
   "version": "3.10.12"
  }
 },
 "nbformat": 4,
 "nbformat_minor": 2
}
